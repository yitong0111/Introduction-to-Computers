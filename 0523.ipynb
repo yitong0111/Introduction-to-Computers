{
  "nbformat": 4,
  "nbformat_minor": 0,
  "metadata": {
    "colab": {
      "name": "0523.ipynb",
      "provenance": [],
      "authorship_tag": "ABX9TyOCGZqRMod8hvSGmO3A6vl8",
      "include_colab_link": true
    },
    "kernelspec": {
      "name": "python3",
      "display_name": "Python 3"
    },
    "language_info": {
      "name": "python"
    }
  },
  "cells": [
    {
      "cell_type": "markdown",
      "metadata": {
        "id": "view-in-github",
        "colab_type": "text"
      },
      "source": [
        "<a href=\"https://colab.research.google.com/github/yitong0111/Introduction-to-Computers/blob/main/0523.ipynb\" target=\"_parent\"><img src=\"https://colab.research.google.com/assets/colab-badge.svg\" alt=\"Open In Colab\"/></a>"
      ]
    },
    {
      "cell_type": "code",
      "execution_count": 1,
      "metadata": {
        "colab": {
          "base_uri": "https://localhost:8080/"
        },
        "id": "uvH6U-WLsuX4",
        "outputId": "b1dcd14a-c889-4135-d9e8-488eaf747324"
      },
      "outputs": [
        {
          "output_type": "stream",
          "name": "stdout",
          "text": [
            "0523\n"
          ]
        }
      ],
      "source": [
        "print(\"0523\")"
      ]
    },
    {
      "cell_type": "code",
      "source": [
        "sum=0\n",
        "test=int(input(\"請輸入一個正整數:\"))\n",
        "for n in range(1,test+1):\n",
        "    sum=sum+n\n",
        "print(\"1到\",test,\"的整數和為：\",sum)    \n"
      ],
      "metadata": {
        "id": "zAn1Q_I5tVwT"
      },
      "execution_count": null,
      "outputs": []
    },
    {
      "cell_type": "code",
      "source": [
        "sum=0\n",
        "test=int(input(\"請輸入一個正整數:\"))\n",
        "for n in range(1,test+1):\n",
        "    sum=sum+n\n",
        "    print(\"1到\",test,\"的整數和為:\",sum)"
      ],
      "metadata": {
        "id": "iENtZo8zvim-"
      },
      "execution_count": null,
      "outputs": []
    },
    {
      "cell_type": "code",
      "source": [
        "for j in range(1,5):\n",
        "    print(j)\n",
        "    for i in range(1,3):\n",
        "        k=i*j\n",
        "        print(j,\"*\",i,\"=\",k)"
      ],
      "metadata": {
        "id": "fGF0C75qx9tw"
      },
      "execution_count": null,
      "outputs": []
    },
    {
      "cell_type": "code",
      "source": [
        "for i in range(1,5):\n",
        "    if (i==4):\n",
        "      break\n",
        "    print(i,end=\"\")"
      ],
      "metadata": {
        "id": "C5v7qH5Vz-yU"
      },
      "execution_count": null,
      "outputs": []
    },
    {
      "cell_type": "code",
      "source": [
        "conunt=0\n",
        "for sring in \"測試看看!\":\n",
        "    count+=1\n",
        "    if string ==\"看\":\n",
        "        break\n",
        "    print(string)\n",
        "print(\"迴圈結束!\")\n",
        "print(\"迴圈執行了%次\"%count)"
      ],
      "metadata": {
        "id": "OItaemEp049Y"
      },
      "execution_count": null,
      "outputs": []
    }
  ]
}