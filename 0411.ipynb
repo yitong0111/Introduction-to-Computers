{
  "nbformat": 4,
  "nbformat_minor": 0,
  "metadata": {
    "colab": {
      "name": "Untitled3.ipynb",
      "provenance": [],
      "authorship_tag": "ABX9TyM5MiupjibgXQgNILk/9pWf",
      "include_colab_link": true
    },
    "kernelspec": {
      "name": "python3",
      "display_name": "Python 3"
    },
    "language_info": {
      "name": "python"
    }
  },
  "cells": [
    {
      "cell_type": "markdown",
      "metadata": {
        "id": "view-in-github",
        "colab_type": "text"
      },
      "source": [
        "<a href=\"https://colab.research.google.com/github/yitong0111/Introduction-to-Computers/blob/main/0411.ipynb\" target=\"_parent\"><img src=\"https://colab.research.google.com/assets/colab-badge.svg\" alt=\"Open In Colab\"/></a>"
      ]
    },
    {
      "cell_type": "code",
      "execution_count": 1,
      "metadata": {
        "colab": {
          "base_uri": "https://localhost:8080/"
        },
        "id": "L8_zF8H3gq5h",
        "outputId": "c97508d6-f5f4-43e4-f2c8-11d7fec36d2d"
      },
      "outputs": [
        {
          "output_type": "stream",
          "name": "stdout",
          "text": [
            "Hi\n"
          ]
        }
      ],
      "source": [
        "print('Hi')"
      ]
    },
    {
      "cell_type": "code",
      "source": [
        "not(3>5)"
      ],
      "metadata": {
        "colab": {
          "base_uri": "https://localhost:8080/"
        },
        "id": "PmhwFr8NgzhK",
        "outputId": "961dc3be-eaf6-4725-a3b2-e41d4a5a97e0"
      },
      "execution_count": 2,
      "outputs": [
        {
          "output_type": "execute_result",
          "data": {
            "text/plain": [
              "True"
            ]
          },
          "metadata": {},
          "execution_count": 2
        }
      ]
    },
    {
      "cell_type": "code",
      "source": [
        "not(3<5)"
      ],
      "metadata": {
        "colab": {
          "base_uri": "https://localhost:8080/"
        },
        "id": "RrKZRl35g6Nx",
        "outputId": "0974bff8-c63e-4ede-8084-d3a6a6d3230a"
      },
      "execution_count": 3,
      "outputs": [
        {
          "output_type": "execute_result",
          "data": {
            "text/plain": [
              "False"
            ]
          },
          "metadata": {},
          "execution_count": 3
        }
      ]
    },
    {
      "cell_type": "code",
      "source": [
        "i = 10"
      ],
      "metadata": {
        "id": "ifuVwAlVhFtt"
      },
      "execution_count": 4,
      "outputs": []
    },
    {
      "cell_type": "code",
      "source": [
        "i += 5"
      ],
      "metadata": {
        "id": "VLOAVFSChapS"
      },
      "execution_count": 5,
      "outputs": []
    },
    {
      "cell_type": "code",
      "source": [
        "i"
      ],
      "metadata": {
        "colab": {
          "base_uri": "https://localhost:8080/"
        },
        "id": "FoXO00MQhfM9",
        "outputId": "397b0717-ba73-4241-d97c-46744279a45c"
      },
      "execution_count": 6,
      "outputs": [
        {
          "output_type": "execute_result",
          "data": {
            "text/plain": [
              "15"
            ]
          },
          "metadata": {},
          "execution_count": 6
        }
      ]
    },
    {
      "cell_type": "code",
      "source": [
        "i -= 5\n",
        "i"
      ],
      "metadata": {
        "colab": {
          "base_uri": "https://localhost:8080/"
        },
        "id": "8IE7W-egh3Cu",
        "outputId": "1d94edc3-cf9f-4ee4-8699-f0d08b1830c1"
      },
      "execution_count": 14,
      "outputs": [
        {
          "output_type": "execute_result",
          "data": {
            "text/plain": [
              "-25"
            ]
          },
          "metadata": {},
          "execution_count": 14
        }
      ]
    },
    {
      "cell_type": "code",
      "source": [
        "i = 10"
      ],
      "metadata": {
        "id": "B8u-Rm_xiJ13"
      },
      "execution_count": 15,
      "outputs": []
    },
    {
      "cell_type": "code",
      "source": [
        "i -= 5\n",
        "i"
      ],
      "metadata": {
        "colab": {
          "base_uri": "https://localhost:8080/"
        },
        "id": "Ymr1UWW2iRkp",
        "outputId": "078f96f9-6b73-46d6-d856-d2c3ce9711d6"
      },
      "execution_count": 16,
      "outputs": [
        {
          "output_type": "execute_result",
          "data": {
            "text/plain": [
              "5"
            ]
          },
          "metadata": {},
          "execution_count": 16
        }
      ]
    },
    {
      "cell_type": "code",
      "source": [
        "i = 10\n",
        "i *= 5\n",
        "i"
      ],
      "metadata": {
        "colab": {
          "base_uri": "https://localhost:8080/"
        },
        "id": "CANgSXZcigKy",
        "outputId": "785bdd93-6df1-43f0-ffa2-ff2d877905ab"
      },
      "execution_count": 17,
      "outputs": [
        {
          "output_type": "execute_result",
          "data": {
            "text/plain": [
              "50"
            ]
          },
          "metadata": {},
          "execution_count": 17
        }
      ]
    },
    {
      "cell_type": "code",
      "source": [
        "print(1+2)"
      ],
      "metadata": {
        "colab": {
          "base_uri": "https://localhost:8080/"
        },
        "id": "5otvOoY0impm",
        "outputId": "232aee75-dddd-4211-a915-56cf821b1a97"
      },
      "execution_count": 18,
      "outputs": [
        {
          "output_type": "stream",
          "name": "stdout",
          "text": [
            "3\n"
          ]
        }
      ]
    },
    {
      "cell_type": "code",
      "source": [
        "print('1'+'2')"
      ],
      "metadata": {
        "colab": {
          "base_uri": "https://localhost:8080/"
        },
        "id": "-2ay1IzOi8DI",
        "outputId": "10620493-f82e-4829-8c3c-fafff52ed642"
      },
      "execution_count": 19,
      "outputs": [
        {
          "output_type": "stream",
          "name": "stdout",
          "text": [
            "12\n"
          ]
        }
      ]
    },
    {
      "cell_type": "code",
      "source": [
        "print('你'+'好'+'!')"
      ],
      "metadata": {
        "colab": {
          "base_uri": "https://localhost:8080/"
        },
        "id": "wiBSYP_0jIbU",
        "outputId": "139eabed-a76a-4fd7-f7e6-30eb8f7deca3"
      },
      "execution_count": 21,
      "outputs": [
        {
          "output_type": "stream",
          "name": "stdout",
          "text": [
            "你好!\n"
          ]
        }
      ]
    },
    {
      "cell_type": "code",
      "source": [
        "deposit=int(input('請輸入本金存款金額：'))\n",
        "years=1.02**6\n",
        "deposit*=years\n",
        "print('六年後存款為：'+str(deposit))"
      ],
      "metadata": {
        "colab": {
          "base_uri": "https://localhost:8080/"
        },
        "id": "LvY4yHekjhHi",
        "outputId": "1e43b493-07f2-41b5-fb1b-492eae3f5310"
      },
      "execution_count": 24,
      "outputs": [
        {
          "output_type": "stream",
          "name": "stdout",
          "text": [
            "請輸入本金存款金額：10000\n",
            "六年後存款為：11261.62419264\n"
          ]
        }
      ]
    },
    {
      "cell_type": "code",
      "source": [
        "pw=input('請輸入密碼')\n",
        "if(pw=='1234'):\n",
        "    print('歡迎光臨！')\n",
        "else:\n",
        "    print('密碼錯誤！')\n"
      ],
      "metadata": {
        "colab": {
          "base_uri": "https://localhost:8080/"
        },
        "id": "7gPX7LLFlGZD",
        "outputId": "82eb94b1-8144-4f30-8c54-47c4811c9ba9"
      },
      "execution_count": 27,
      "outputs": [
        {
          "output_type": "stream",
          "name": "stdout",
          "text": [
            "請輸入密碼1111\n",
            "密碼錯誤！\n"
          ]
        }
      ]
    },
    {
      "cell_type": "code",
      "source": [
        "rain=input(\"今天會下雨嗎？\")\n",
        "if(rain==\"Y\"or rain==\"y\"):\n",
        "    print(\"出門記得帶傘！\")"
      ],
      "metadata": {
        "id": "tpYbjtNLlrWv"
      },
      "execution_count": null,
      "outputs": []
    }
  ]
}